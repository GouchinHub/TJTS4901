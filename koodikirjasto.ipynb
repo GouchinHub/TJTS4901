{
 "cells": [
  {
   "cell_type": "code",
   "execution_count": 1,
   "id": "3d8f83e5-a481-4902-a746-426a098dc712",
   "metadata": {},
   "outputs": [],
   "source": [
    "import pandas as pd\n",
    "import numpy as np\n",
    "import psycopg2"
   ]
  },
  {
   "cell_type": "code",
   "execution_count": 2,
   "id": "c5a7ddd2-a941-4824-b722-f8770501a8f0",
   "metadata": {},
   "outputs": [],
   "source": [
    "def luo_yhteys():\n",
    "    try:\n",
    "        connection = psycopg2.connect(\n",
    "            host=\"192.168.0.15\",\n",
    "            database=\"VehicleRegisterDatabase\",\n",
    "            user=\"postgres\",\n",
    "            password=\"1337\"\n",
    "        )\n",
    "        #print(\"Connection to PostgreSQL database successful\")\n",
    "        print(connection)\n",
    "    except (Exception, psycopg2.Error) as error:\n",
    "        print(\"Error while connecting to PostgreSQL database:\", error)\n",
    "\n",
    "    try:\n",
    "        cursor = connection.cursor()\n",
    "        print(\"Cursor created successfully\")\n",
    "    except (Exception, psycopg2.Error) as error:\n",
    "        print(\"Error while creating a cursor:\", error)\n",
    "\n",
    "    return cursor\n"
   ]
  },
  {
   "cell_type": "code",
   "execution_count": 14,
   "id": "961d551b-e83c-4697-ac53-6b72260bbeee",
   "metadata": {},
   "outputs": [
    {
     "name": "stdout",
     "output_type": "stream",
     "text": [
      "<connection object at 0x0000018B093059C0; dsn: 'user=postgres password=xxx dbname=VehicleRegisterDatabase host=192.168.0.15', closed: 0>\n",
      "Cursor created successfully\n",
      "      kunta ajoneuvoluokka ensirekisterointopvm\n",
      "0       179             M1           2010-01-02\n",
      "1       179             M1           2010-01-02\n",
      "2       179             M1           2010-01-02\n",
      "3       179             M1           2010-01-04\n",
      "4       179             M1           2010-01-04\n",
      "...     ...            ...                  ...\n",
      "20276   179             M1           2020-05-07\n",
      "20277   179             M1           2020-08-20\n",
      "20278   179             M1           2021-05-18\n",
      "20279   179             M1           2021-07-23\n",
      "20280   179             M1           2021-11-01\n",
      "\n",
      "[20281 rows x 3 columns]\n"
     ]
    }
   ],
   "source": [
    "cursor = luo_yhteys()\n",
    "query = f'''\n",
    "    SELECT kunta, ajoneuvoluokka, ensirekisterointipvm\n",
    "    FROM ajoneuvorekisteroinnit\n",
    "    WHERE kunta = '179' AND ajoneuvoluokka = 'M1' AND ensirekisterointipvm >= '2010-01-01' AND ensirekisterointipvm <= '2022-01-01'\n",
    "    ORDER BY ensirekisterointipvm\n",
    "'''\n",
    "try:\n",
    "    cursor.execute(query)\n",
    "    # Fetch and print the results\n",
    "    records = cursor.fetchall()\n",
    "    df = pd.DataFrame(records, columns=[\"kunta\", \"ajoneuvoluokka\", \"ensirekisterointopvm\"])\n",
    "    print(df)\n",
    "\n",
    "    # Commit the transaction\n",
    "    #connection.commit()\n",
    "except (Exception, psycopg2.Error) as error:\n",
    "    print(\"Error while executing SQL query:\", error)\n"
   ]
  },
  {
   "cell_type": "code",
   "execution_count": 9,
   "id": "da441699-be46-46bb-849e-5a9c0ca606f7",
   "metadata": {},
   "outputs": [],
   "source": [
    "def ensirekisteroinnit(alku, loppu, merkki, kunta):\n",
    "    cursor = luo_yhteys()\n",
    "    query = f'''\n",
    "        SELECT kunta, ajoneuvoluokka, ensirekisterointipvm\n",
    "        FROM ajoneuvorekisteroinnit\n",
    "        WHERE kunta = '179' AND ajoneuvoluokka = 'M1' AND ensirekisterointipvm >= '2020-01-01' AND ensirekisterointipvm <= '2022-01-01'\n",
    "        ORDER BY ensirekisterointipvm\n",
    "    '''\n",
    "    try:\n",
    "        cursor.execute(query)\n",
    "        # Fetch and print the results\n",
    "        records = cursor.fetchall()\n",
    "        df = pd.DataFrame(records, columns=[\"kunta\", \"ajoneuvoluokka\", \"ensirekisterointopvm\"])\n",
    "        print(df)\n",
    "        \n",
    "        # Commit the transaction\n",
    "        #connection.commit()\n",
    "    except (Exception, psycopg2.Error) as error:\n",
    "        print(\"Error while executing SQL query:\", error)\n"
   ]
  },
  {
   "cell_type": "code",
   "execution_count": null,
   "id": "fdcef853-eac2-42db-b39a-3523bf348ea1",
   "metadata": {},
   "outputs": [],
   "source": [
    "def ensirekisteroinnit(vuosi merkki):\n",
    "    cursor = luo_yhteys()\n",
    "    query = f'''\n",
    "        SELECT ensirekisterointipvm, merkki\n",
    "        FROM ajoneuvorekisteroinnit\n",
    "        WHERE merkki =  AND ajoneuvoluokka = 'M1' AND ensirekisterointipvm >= '2020-01-01' AND ensirekisterointipvm <= '2022-01-01'\n",
    "        ORDER BY ensirekisterointipvm\n",
    "    '''\n",
    "    try:\n",
    "        cursor.execute(query)\n",
    "        # Fetch and print the results\n",
    "        records = cursor.fetchall()\n",
    "        df = pd.DataFrame(records, columns=[\"kunta\", \"ajoneuvoluokka\", \"ensirekisterointopvm\"])\n",
    "        print(df)\n",
    "        \n",
    "        # Commit the transaction\n",
    "        #connection.commit()\n",
    "    except (Exception, psycopg2.Error) as error:\n",
    "        print(\"Error while executing SQL query:\", error)\n"
   ]
  }
 ],
 "metadata": {
  "kernelspec": {
   "display_name": "Python 3 (ipykernel)",
   "language": "python",
   "name": "python3"
  },
  "language_info": {
   "codemirror_mode": {
    "name": "ipython",
    "version": 3
   },
   "file_extension": ".py",
   "mimetype": "text/x-python",
   "name": "python",
   "nbconvert_exporter": "python",
   "pygments_lexer": "ipython3",
   "version": "3.12.0"
  }
 },
 "nbformat": 4,
 "nbformat_minor": 5
}
