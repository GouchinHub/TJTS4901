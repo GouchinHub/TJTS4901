{
 "cells": [
  {
   "cell_type": "code",
   "execution_count": null,
   "id": "313a39ba-cdc8-4e85-a517-e5b453602a5f",
   "metadata": {},
   "outputs": [],
   "source": [
    "import kuvaajakirjasto as kk"
   ]
  },
  {
   "cell_type": "markdown",
   "id": "eba7a62b-2420-4398-8fa5-84913ee36442",
   "metadata": {},
   "source": [
    "# Markkinatrendit"
   ]
  },
  {
   "cell_type": "code",
   "execution_count": null,
   "id": "a7a7a5bb-c448-483a-8ba6-f8f11fd88913",
   "metadata": {},
   "outputs": [],
   "source": [
    "hybridiajoneuvojen_maaran_kehitys(2012, 2016)"
   ]
  },
  {
   "cell_type": "code",
   "execution_count": null,
   "id": "f4e9e816-025d-4036-93da-800ec684d4a8",
   "metadata": {},
   "outputs": [],
   "source": [
    "top10_myydyinta_automerkkia(2017, 2022)"
   ]
  },
  {
   "cell_type": "code",
   "execution_count": null,
   "id": "b98d19fe-512e-446a-93e0-70e6a4295eb1",
   "metadata": {},
   "outputs": [],
   "source": [
    "prosentuaalinen_muutos_automerkeittain(2017, 2022)"
   ]
  },
  {
   "cell_type": "code",
   "execution_count": null,
   "id": "344e2514-6176-4916-8c18-22853643ae7a",
   "metadata": {},
   "outputs": [],
   "source": [
    "sahkoautojen_ensirekisteroinnit_merkeilla(2017, 2022, [\"TESLA\", \"POLESTAR\"])"
   ]
  },
  {
   "cell_type": "markdown",
   "id": "b8384f2e-6b71-44c5-9621-9e86a7ec0d54",
   "metadata": {},
   "source": [
    "# Alueelliset erot"
   ]
  },
  {
   "cell_type": "code",
   "execution_count": null,
   "id": "4fe23189-8d25-4a4d-acd0-be1b9f584031",
   "metadata": {},
   "outputs": [],
   "source": [
    "kunnat = [\"Helsinki\", \"Espoo\",\"Tampere\",\"Oulu\",\"Kokkola\",\"Kotka\",\"Jyväskylä\",\"Lahti\",\"Kuopio\",\"Kouvola\"]\n",
    "kuv.rekisterointien_osuus_ajokilometriluokittain_eri_kunnissa(kunnat, 2000, 2016, 10000, 300000)"
   ]
  },
  {
   "cell_type": "code",
   "execution_count": null,
   "id": "c2c64764-7631-4ef5-bdd6-1ece7b9b0e93",
   "metadata": {},
   "outputs": [],
   "source": [
    "top10_suurimman_merkin_markkinaosuudet_kaupungeittain(2010,2016,[\"Rovaniemi\", \"Jyväskylä\",\"Tampere\",\"Kotka\"])"
   ]
  },
  {
   "cell_type": "code",
   "execution_count": null,
   "id": "4c6793b9-194a-40f3-bbe2-45690ba993b8",
   "metadata": {},
   "outputs": [],
   "source": [
    "kunnat = [\"Oulu\", \"Turku\", \"Jyväskylä\", \"Kuopio\", \"Lahti\"] \n",
    "merkit = [\"BMW\", \"Volvo\", \"Audi\", \"Skoda\", \"Toyota\", \"Volkswagen\",\"Mercedes-Benz\", \"Kia\"] \n",
    "assosisaatio_kunnan_kayttovoiman_ja_merkin_valilla(2015, 2016, kunnat, merkit)"
   ]
  }
 ],
 "metadata": {
  "kernelspec": {
   "display_name": "Python 3 (ipykernel)",
   "language": "python",
   "name": "python3"
  },
  "language_info": {
   "codemirror_mode": {
    "name": "ipython",
    "version": 3
   },
   "file_extension": ".py",
   "mimetype": "text/x-python",
   "name": "python",
   "nbconvert_exporter": "python",
   "pygments_lexer": "ipython3",
   "version": "3.11.7"
  }
 },
 "nbformat": 4,
 "nbformat_minor": 5
}
